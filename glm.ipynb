{
 "cells": [
  {
   "cell_type": "code",
   "execution_count": 1,
   "id": "ec413874",
   "metadata": {},
   "outputs": [],
   "source": [
    ""
   ]
  },
  {
   "cell_type": "code",
   "execution_count": 3,
   "id": "df3c75a1",
   "metadata": {},
   "outputs": [
    {
     "name": "stdout",
     "output_type": "stream",
     "text": [
      "Requirement already satisfied: pyreadstat in c:\\users\\arivera\\appdata\\local\\packages\\pythonsoftwarefoundation.python.3.10_qbz5n2kfra8p0\\localcache\\local-packages\\python310\\site-packages (1.1.4)\n",
      "Requirement already satisfied: pandas>=1.2.0 in c:\\users\\arivera\\appdata\\local\\packages\\pythonsoftwarefoundation.python.3.10_qbz5n2kfra8p0\\localcache\\local-packages\\python310\\site-packages (from pyreadstat) (1.4.2)\n",
      "Requirement already satisfied: numpy>=1.21.0 in c:\\users\\arivera\\appdata\\local\\packages\\pythonsoftwarefoundation.python.3.10_qbz5n2kfra8p0\\localcache\\local-packages\\python310\\site-packages (from pandas>=1.2.0->pyreadstat) (1.22.3)\n",
      "Requirement already satisfied: pytz>=2020.1 in c:\\users\\arivera\\appdata\\local\\packages\\pythonsoftwarefoundation.python.3.10_qbz5n2kfra8p0\\localcache\\local-packages\\python310\\site-packages (from pandas>=1.2.0->pyreadstat) (2022.1)\n",
      "Requirement already satisfied: python-dateutil>=2.8.1 in c:\\users\\arivera\\appdata\\local\\packages\\pythonsoftwarefoundation.python.3.10_qbz5n2kfra8p0\\localcache\\local-packages\\python310\\site-packages (from pandas>=1.2.0->pyreadstat) (2.8.2)\n",
      "Requirement already satisfied: six>=1.5 in c:\\users\\arivera\\appdata\\local\\packages\\pythonsoftwarefoundation.python.3.10_qbz5n2kfra8p0\\localcache\\local-packages\\python310\\site-packages (from python-dateutil>=2.8.1->pandas>=1.2.0->pyreadstat) (1.16.0)\n",
      "Note: you may need to restart the kernel to use updated packages.\n"
     ]
    }
   ],
   "source": [
    "pip install pyreadstat"
   ]
  },
  {
   "cell_type": "code",
   "execution_count": 1,
   "id": "77cf7577",
   "metadata": {},
   "outputs": [
    {
     "ename": "ImportError",
     "evalue": "DLL load failed while importing pyreadstat: The specified module could not be found.",
     "output_type": "error",
     "traceback": [
      "\u001b[1;31m---------------------------------------------------------------------------\u001b[0m",
      "\u001b[1;31mImportError\u001b[0m                               Traceback (most recent call last)",
      "\u001b[1;32mc:\\Users\\ARivera\\Documents\\Mariam\\glm.ipynb Cell 3'\u001b[0m in \u001b[0;36m<cell line: 1>\u001b[1;34m()\u001b[0m\n\u001b[1;32m----> <a href='vscode-notebook-cell:/c%3A/Users/ARivera/Documents/Mariam/glm.ipynb#ch0000002?line=0'>1</a>\u001b[0m \u001b[39mimport\u001b[39;00m \u001b[39mpyreadstat\u001b[39;00m\n",
      "File \u001b[1;32m~\\AppData\\Local\\Packages\\PythonSoftwareFoundation.Python.3.10_qbz5n2kfra8p0\\LocalCache\\local-packages\\Python310\\site-packages\\pyreadstat\\__init__.py:17\u001b[0m, in \u001b[0;36m<module>\u001b[1;34m\u001b[0m\n\u001b[0;32m      <a href='file:///c%3A/Users/ARivera/AppData/Local/Packages/PythonSoftwareFoundation.Python.3.10_qbz5n2kfra8p0/LocalCache/local-packages/Python310/site-packages/pyreadstat/__init__.py?line=0'>1</a>\u001b[0m \u001b[39m# #############################################################################\u001b[39;00m\n\u001b[0;32m      <a href='file:///c%3A/Users/ARivera/AppData/Local/Packages/PythonSoftwareFoundation.Python.3.10_qbz5n2kfra8p0/LocalCache/local-packages/Python310/site-packages/pyreadstat/__init__.py?line=1'>2</a>\u001b[0m \u001b[39m# Copyright 2018 Hoffmann-La Roche\u001b[39;00m\n\u001b[0;32m      <a href='file:///c%3A/Users/ARivera/AppData/Local/Packages/PythonSoftwareFoundation.Python.3.10_qbz5n2kfra8p0/LocalCache/local-packages/Python310/site-packages/pyreadstat/__init__.py?line=2'>3</a>\u001b[0m \u001b[39m#\u001b[39;00m\n\u001b[1;32m   (...)\u001b[0m\n\u001b[0;32m     <a href='file:///c%3A/Users/ARivera/AppData/Local/Packages/PythonSoftwareFoundation.Python.3.10_qbz5n2kfra8p0/LocalCache/local-packages/Python310/site-packages/pyreadstat/__init__.py?line=13'>14</a>\u001b[0m \u001b[39m# limitations under the License.\u001b[39;00m\n\u001b[0;32m     <a href='file:///c%3A/Users/ARivera/AppData/Local/Packages/PythonSoftwareFoundation.Python.3.10_qbz5n2kfra8p0/LocalCache/local-packages/Python310/site-packages/pyreadstat/__init__.py?line=14'>15</a>\u001b[0m \u001b[39m# #############################################################################\u001b[39;00m\n\u001b[1;32m---> <a href='file:///c%3A/Users/ARivera/AppData/Local/Packages/PythonSoftwareFoundation.Python.3.10_qbz5n2kfra8p0/LocalCache/local-packages/Python310/site-packages/pyreadstat/__init__.py?line=16'>17</a>\u001b[0m \u001b[39mfrom\u001b[39;00m \u001b[39m.\u001b[39;00m\u001b[39mpyreadstat\u001b[39;00m \u001b[39mimport\u001b[39;00m read_sas7bdat, read_xport, read_dta, read_sav, read_por, read_sas7bcat\n\u001b[0;32m     <a href='file:///c%3A/Users/ARivera/AppData/Local/Packages/PythonSoftwareFoundation.Python.3.10_qbz5n2kfra8p0/LocalCache/local-packages/Python310/site-packages/pyreadstat/__init__.py?line=17'>18</a>\u001b[0m \u001b[39mfrom\u001b[39;00m \u001b[39m.\u001b[39;00m\u001b[39mpyreadstat\u001b[39;00m \u001b[39mimport\u001b[39;00m write_sav, write_dta, write_xport, write_por\n\u001b[0;32m     <a href='file:///c%3A/Users/ARivera/AppData/Local/Packages/PythonSoftwareFoundation.Python.3.10_qbz5n2kfra8p0/LocalCache/local-packages/Python310/site-packages/pyreadstat/__init__.py?line=18'>19</a>\u001b[0m \u001b[39mfrom\u001b[39;00m \u001b[39m.\u001b[39;00m\u001b[39mpyreadstat\u001b[39;00m \u001b[39mimport\u001b[39;00m set_value_labels, set_catalog_to_sas\n",
      "\u001b[1;31mImportError\u001b[0m: DLL load failed while importing pyreadstat: The specified module could not be found."
     ]
    }
   ],
   "source": [
    ""
   ]
  },
  {
   "cell_type": "code",
   "execution_count": 9,
   "id": "85b7f438",
   "metadata": {},
   "outputs": [
    {
     "ename": "ImportError",
     "evalue": "attempted relative import with no known parent package",
     "output_type": "error",
     "traceback": [
      "\u001b[1;31m---------------------------------------------------------------------------\u001b[0m",
      "\u001b[1;31mImportError\u001b[0m                               Traceback (most recent call last)",
      "\u001b[1;32mc:\\Users\\ARivera\\Documents\\Mariam\\glm.ipynb Cell 4'\u001b[0m in \u001b[0;36m<cell line: 1>\u001b[1;34m()\u001b[0m\n\u001b[1;32m----> <a href='vscode-notebook-cell:/c%3A/Users/ARivera/Documents/Mariam/glm.ipynb#ch0000002?line=0'>1</a>\u001b[0m \u001b[39mfrom\u001b[39;00m \u001b[39m.\u001b[39;00m\u001b[39mpyreadstat\u001b[39;00m \u001b[39mimport\u001b[39;00m read_sav\n",
      "\u001b[1;31mImportError\u001b[0m: attempted relative import with no known parent package"
     ]
    }
   ],
   "source": [
    ""
   ]
  },
  {
   "cell_type": "code",
   "execution_count": 5,
   "id": "30b4f18a",
   "metadata": {},
   "outputs": [
    {
     "ename": "NameError",
     "evalue": "name 'pyreadstat' is not defined",
     "output_type": "error",
     "traceback": [
      "\u001b[1;31m---------------------------------------------------------------------------\u001b[0m",
      "\u001b[1;31mNameError\u001b[0m                                 Traceback (most recent call last)",
      "\u001b[1;32mc:\\Users\\ARivera\\Documents\\Mariam\\glm.ipynb Cell 4'\u001b[0m in \u001b[0;36m<cell line: 1>\u001b[1;34m()\u001b[0m\n\u001b[1;32m----> <a href='vscode-notebook-cell:/c%3A/Users/ARivera/Documents/Mariam/glm.ipynb#ch0000003?line=0'>1</a>\u001b[0m df, meta \u001b[39m=\u001b[39m pyreadstat\u001b[39m.\u001b[39mread_sav(\u001b[39m'\u001b[39m\u001b[39mC:/Users/ARivera/Documents/Mariam/Data.sav\u001b[39m\u001b[39m'\u001b[39m, apply_value_formats\u001b[39m=\u001b[39m\u001b[39mTrue\u001b[39;00m)\n\u001b[0;32m      <a href='vscode-notebook-cell:/c%3A/Users/ARivera/Documents/Mariam/glm.ipynb#ch0000003?line=1'>2</a>\u001b[0m \u001b[39mtype\u001b[39m(df)\n\u001b[0;32m      <a href='vscode-notebook-cell:/c%3A/Users/ARivera/Documents/Mariam/glm.ipynb#ch0000003?line=2'>3</a>\u001b[0m \u001b[39mtype\u001b[39m(meta)\n",
      "\u001b[1;31mNameError\u001b[0m: name 'pyreadstat' is not defined"
     ]
    }
   ],
   "source": [
    "df, meta = pyreadstat.read_sav('C:/Users/ARivera/Documents/Mariam/Data.sav', apply_value_formats=True)\n",
    "type(df)\n",
    "type(meta)\n",
    "df.head()"
   ]
  },
  {
   "cell_type": "code",
   "execution_count": null,
   "id": "19dde353",
   "metadata": {},
   "outputs": [],
   "source": [
    "import statsmodels.formula.api as smf\n",
    "formula = 'ASE32.1CuantasPersonasTieneIngresoHogarAD~SD_CuantasPersonasVivenConUstedAD+AD14CiudadViviaAD+AL27.1OcupaciónAD+AL28.1TipoContratoAD+AL30.1SuTrabajoEraAD+AL31.1CuántoGanabaMensualmenteAD+ASE33.1VinculoFamiliarTieneMayorIngresoHogarAD+ASE33.1.1FamiliarTieneMayorIngresoHogarAD+ASE33.1.2FamiliarTieneMayorIngresoHogarAD+ASE33.1.3FamiliarTieneMayorIngresoHogarAD+ASE33.1.4FamiliarTieneMayorIngresoHogarAD+ASE34.1QuienAportaMásDineroCasaAD+ASE34.1.1QuienAportaMásDineroCasaAntesPadreAD+ASE34.1.6QuienAportaMásDineroCasaAntesYoAD+ASE36.1FuenteIngresosAD+ASE37.1IngresosMensualesCasaDolaresAD+ASE38.1.2PersonaEncargadaDeFamiliaADMadre+ASE38.1.3PersonaEncargadaDeFamiliaADHijos+ASE38.1.4PersonaEncargadaDeFamiliaADHermanos+ASE38.1.5PersonaEncargadaDeFamiliaADYo+ASE38.1.6PersonaEncargadaDeFamiliaADOtro+ASE39.1PersonasDependenUstedAD+ASP41.1antesSuViviendaContabaConServicioEnergíaAD+ASP44.1SuViviendaContabaConServicioRecogidaBasuraAD+ASP45.1SuViviendaContabaConServicioLíneaTelefonicaFijaAD+ASP47.1SuViviendaContabaConServicioInternetAD+ASP48.1SuViviendaContabaConServicioGasPropanoAD+ASP49.1CuálEsElServicioMásCaroAD+ASP49.1.1CuálEsElServicioMásCaroADAlcantarillado+ASP49.1.2CuálEsElServicioMásCaroADGas+ASP49.1.3CuálEsElServicioMásCaroADLuz+ASP49.1.4CuálEsElServicioMásCaroADAgua+ASP49.1.5CuálEsElServicioMásCaroADTelefonia+ASP50.1CostosMensualesServiciosADUSD+ASP51.1ComoEsLaCalidadDeLosServiciosAD+ASP52.1QueHacíaConLosResiduosAD+TL153.1.7ActividadesRealizaEnTiempoLibreADHacerMercado+TL153.1.8ActividadesRealizaEnTiempoLibreADArreglosmecánicos+TL153.1.9ActividadesRealizaEnTiempoLibreADVertelevisión+TL154.1ElmarotrosLugaresNaturalesPreferidosParaTiempoLibreAD+TL155.1EnTiempoLibreComparteFamiliaAD+TL156.1EnTiempoLibrePrefiereActividadesDomésticasAD+TL153.1ActividadesRealizaEnTiempoLibreAD+TL153.1.1ActividadesRealizaEnTiempoLibreADTrabajar+TL153.1.2ActividadesRealizaEnTiempoLibreADRezar+TL153.1.3ActividadesRealizaEnTiempoLibreADComer+TL153.1.4ActividadesRealizaEnTiempoLibreADAyudarLaboresDomestica+TL153.1.5ActividadesRealizaEnTiempoLibreADDormir+TL153.1.6ActividadesRealizaEnTiempoLibreADBuscartrabajo+AL147.1TeníaMarcasPreferidasAseoPersonalAD+AL148.1GastoMensualProductosAseoPersonalADUSD+AL149.1UstedoFamiliaSeBañanAireLibreAD+AL150.1DondeBañabanRegularmenteAD+C151.1HaSolicitadoCréditosoPrestamosDineroAD+TL152.1LugarDondePasaTiempoLibreAD+TL152.1.1LugarDondePasaTiempoLibreADCentrosComerciales+TL152.1.2LugarDondePasaTiempoLibreADParque+TL152.1.3LugarDondePasaTiempoLibreADCasa+TL152.1.4LugarDondePasaTiempoLibreADCasaAmigosFamiliares+AL145.1GastoMensualProductosLimpiezaUSDAD+AL146.1ProductosAseoPersonalUtilizabaAD+AL146.1.1ProductosAseoPersonalUtilizabaADJabónBarra+AL146.1.2ProductosAseoPersonalUtilizabaADShampoo+AL146.1.3ProductosAseoPersonalUtilizabaADJabónintimo+AL146.1.4ProductosAseoPersonalUtilizabaADCremaAfeitar+AL146.1.5ProductosAseoPersonalUtilizabaADPapelHigiénico+AL146.1.6ProductosAseoPersonalUtilizabaADCremacuerpo+AL146.1.7ProductosAseoPersonalUtilizabaADAcondicionador+AL146.1.8ProductosAseoPersonalUtilizabaADDesodorante+AL144.1ProductosDLimpiezAMásUsadosAD+AL144.1.1ProductosDLimpiezAMásUsadosADJabónbarra+AL144.1.2ProductosDLimpiezAMásUsadosADBlanqueador+AL144.1.3ProductosDLimpiezAMásUsadosADJabónCocina+AL144.1.4ProductosDLimpiezAMásUsadosADLimpiavidrios+AL144.1.5ProductosDLimpiezAMásUsadosADTrapero+AL144.1.6ProductosDLimpiezAMásUsadosADLimpiaPisos+AL144.1.7ProductosDLimpiezAMásUsadosADJabónpolvo+AL144.1.8ProductosDLimpiezAMásUsadosADEscoba+T137.1QuéElementosTeCnologicosEstabanSuoHogarAD+T137.1.1QuéElementosTeCnologicosEstabanSuoHogarADTelevisor+T137.1.2QuéElementosTeCnologicosEstabanSuoHogarADEquipoDSonido+T137.1.3QuéElementosTeCnologicosEstabanSuoHogarADNevera+T137.1.4QuéElementosTeCnologicosEstabanSuoHogarADLavadora+T137.1.5QuéElementosTeCnologicosEstabanSuoHogarADEstufa+T137.1.6QuéElementosTeCnologicosEstabanSuoHogarADHornoMicroonda+T137.1.7QuéElementosTeCnologicosEstabanSuoHogarADComputador+T137.8QuéElementosTeCnologicosEstabanSuoHogarADTeléfonoFijo+T137.1.9QuéElementosTeCnologicosEstabanSuoHogarADCelular+T137.1.10QuéElementosTeCnologicosEstabanSuoHogarADRadio+T137.1.11QuéElementosTeCnologicosEstabanSuoHogarADLicuadora+T138.1ElectrodomesticoMásImportanteSuCasaAD+T138.1.1ElectrodomesticoMásImportanteSuCasaADTelevisor+T138.1.2ElectrodomesticoMásImportanteSuCasaADNevera+T138.1.3ElectrodomesticoMásImportanteSuCasaADLavadora+T138.1.4ElectrodomesticoMásImportanteSuCasaADComputador+T138.1.5ElectrodomesticoMásImportanteSuCasaADCelular+T138.2.1ElectrodomesticoMásImportanteSuCasaADTelevisor+T138.2.2ElectrodomesticoMásImportanteSuCasaADNevera+T138.2.3ElectrodomesticoMásImportanteSuCasaADLavadora+T138.2.4ElectrodomesticoMásImportanteSuCasaADCelular+T139.1ElectrodomesticoPreferidoPorHijosAD+T139.1.1ElectrodomesticoPreferidoPorHijosADTelevisor+T139.1.2ElectrodomesticoPreferidoPorHijosADLavadora+T139.1.3ElectrodomesticoPreferidoPorHijosADComputador+T139.1.4ElectrodomesticoPreferidoPorHijosADCelular+T140.1ElectrodomesticosUtilizabanParaEntretenimientoAD+T140.1.1ElectrodomesticosUtilizabanParaEntretenimientoADTeleviso+T140.1.2ElectrodomesticosUtilizabanParaEntretenimientoADEquipoDs+T140.1.3ElectrodomesticosUtilizabanParaEntretenimientoADCelulari+T140.1.4ElectrodomesticosUtilizabanParaEntretenimientoADCelularb+T141.1CómoObteníaElectrodomesticosAD+T142.1DóndeAdquirióLosELectrodomesticosAD+AL143.1ComprabaProductosAseoParaCasaAD+R122.2.1Activ.RealizáParaDivertirseADHablarAmigos+R122.2.2Activ.RealizáParaDivertirseADJugarFútbol+R122.2.3Activ.RealizáParaDivertirseADCaminarFamilia+R122.2.4Activ.RealizáParaDivertirseADArreglarLimpiar+R122.2.5ActivRealizabaParaDivertirseADAsistirMesquitaMisaCultosR+R123.1HaConsumidoAgunaDrogaAD+R128.1.1TipoDPropiedadesADCasa+R128.1.2TipoDPropiedadesADApartamento+R125.1CuántoDineroGastabaEnRecreaciónMesAD+R126.1TeníaPropiedadesAD+R128.1.3TipoDPropiedadesADCasa+R130.1CómoObtuvoPropiedadADTeniaPapelesDPropiedadAD+V135.1TienePreferenciAPorAlgunaMarcaAD+V134.1CadaCuantoAdquiriaLaRopaAD+V133.1CómoAdquiriaRopaAD+V136.1TienePreferenciaAlgunaMarcaDCalzadoAD+S72.1SusHijosNacieroEnAD+S72.1.1SusHijosNacieroEnADHospital+S72.2SusHijosNacieroEnADCasa+S72.1.3SusHijosNacieroEnADOtro+EH98.1AQuéSistemaEducativoPerteneciaAD+EH99.1LosNiñosRecibiánEducaciónAD+EH100.1ComoObteniaLosÚtilesEscolaresAD+EH101.1QuienLeDonabaORegalabaÚtilesAD+EH102.1DemorabaMásDeUnaHoraLlegarAlColegioAD+EH104.1LeCobrabanEducaciónHijosAD+EH105.1HijosHanReprobadoAlgunAñoAD+EH105.2HijosHanReprobadoAlgunAñoDD+EH106.1PorqueReprobaronAD+EH107.1FrecuenciaCompraÚtilesEscolaresAD+EH103.1MedioTrasporteUtilizabaParAllegarEscuelaAD+AN87.1MercadosDonadosAD+AN88.1SubsidioParaCompraDAlimentosAD+AN89.1ComidaConsumdaDiariamenteAD+AN89.1.1ComidaConsumdaDiariamenteADDesayuno+AN89.1.2ComidaConsumdaDiariamenteADMediasNueves+AN89.1.3ComidaConsumdaDiariamenteADAlmuerzo+AN89.1.4ComidaConsumdaDiariamenteADComida+AN89.1.5ComidaConsumdaDiariamenteADOnces+AN89.2.4ComidaConsumdaDiariamenteADComida+AN90.1FrecuenciaConsumoCarneDResAD+AN94.1FrecuenciaConsumoComidasRapidasAD+EH95.1ViviaConHijosAD+EH108.1CuantoGastabaCompraÚtilesAD+EH109.1NivelEducativOMásAltoAlcanzadoHijosAD+AD15Motivosdesplazamiento+AD16TipoDelDesplazamiento+AD17AQueGobernaturaLlego+AD18ElLugarDondeLlegoAVivir+AD19DesplazamientoMejoróCalidadVida+AD20CuantasVecesDesplazado+AD21DondeViveActualmente+AD22SeDesplazoPorNoConseguirEmpleo+AD23SeDesplazoPorLugarDondeViviaEraPeligroso+AD24SeDesplazoPorVecinosNoEstabanConformes+AD25AñoUltimoDesplazamiento+AD26ActorDesplazamiento+ASE34.1.1QuienAportaMásDineroCasaAntesPadreAD+ASE34.1.2QuienAportaMásDineroCasaAntesMadreAD+ASE34.1.3QuienAportaMásDineroCasaAntesHijosAD+ASE34.1.4QuienAportaMásDineroCasaAntesHermanosAD+SD_NivelEduAD+AL29.1SectorTrabajoAD+ASE32.1CuantasPersonasTieneIngresoHogarAD+S78.1NoRecibioServiciosAFaltaDEquiposOProfesionalesAD+S79.1AlSolicitarServicioDSaludAtendíanInmediatamenteAD+S80.1ConsiderabaLaPrestaciónDelServicioDSAludAD+AN81.1FrecuenciaCompraAlimentosAlMesAD+AN84.1CultivandoAD+ASE38.1PersonaEncargadaDeFamiliaAD+ASE38.1.1PersonaEncargadaDeFamiliaADPadre+ASP40.1SuViviendaContabaConServicioGasAD+ASP43.1SuViviendaContabaConServicioAlcantarilladoAD+ASP46.2SuViviendaContabaConServicioTVCableAD+LV53.1TechoAD+LV53.1.1TechoADTejaDBarro+LV53.1.2TechoADConcreto+LV53.1.3TechoADLata+LV53.2TechoAD+LV53.2.1TechoADZinc+LV53.2.2TechoADPrefabricado+LV53.2.3TechoADConcreto+LV53.2.4TechoADLata+LV53.2.5TechoADMadera+LV53.2.6TechoADTela+LV54.1ParedesAD+LV54.1.1ParedesADPlastico+LV54.1.2ParedesADConcreto+LV54.1.3ParedesADLata+LV54.1.4ParedesADTela+LV54.1.5ParedesADBloque+LV54.1.6ParedesADPiedra+EH113.1AlgúnMomentoHijosDejaronEstudiarPortrabajarAD+EH114.1PagaEducaciónHijosAD+EH114.1.1CuantoAD+EH115.1PagoEducaciónEsUnaCargaEconómicaAD+EH116.1HijosTenianMarcasPreferidasDÚtilesAD+EH117.1HacíaTruequeObtenerÚtilesEscolaresAD+EH118.1ComprabanÚtilesEscolaresAntesHijosIniciaranClaseAD+EH119.1FirmóDocumentoFormalizarInscripciónColegioAD+EH120.1NecesitabaUtilizarUniformeAD+R121.1LugaresDondeGustabaDivertirseAD+R121.1.1LugaresDondeGustabaDivertirseADParque+R121.1.2LugaresDondeGustabaDivertirseADCasa+R121.1.3LugaresDondeGustabaDivertirseADPueblo+R121.1.4LugaresDondeGustabaDivertirseADCasaAmigosFamiliares+R121.1.5LugaresDondeGustabaDivertirseADMar+R122.1Activ.RealizabaMásFrecuenciaParaDivertirseAD+R122.1ActivRealizabaParaDivertirseADHablarAmigos+R122.1.1ActivRealizabaParaDivertirseADCaminarFamilia+AR122.1.2ActivRealizabaParaDivertirseADrreglarLimpiar+R122.1.3ActivRealizabaParaDivertirseADAsistirMesquitaMisaCultosR+R122.1.4ActivRealizabaParaDivertirseADOtro+R122.2Activ.RealizáParaDivertirseAD+R124.1AlgúnfamiliarconsumíaDrogaAD+R127.1CuantasPropiedadesTeniaAD+R128.1TipoDPropiedadesAD,family= poisson(link = sm.families.links.log)'"
   ]
  },
  {
   "cell_type": "code",
   "execution_count": null,
   "id": "0cc37cea",
   "metadata": {},
   "outputs": [],
   "source": []
  }
 ],
 "metadata": {
  "kernelspec": {
   "display_name": "Python 3 (ipykernel)",
   "language": "python",
   "name": "python3"
  },
  "language_info": {
   "codemirror_mode": {
    "name": "ipython",
    "version": 3
   },
   "file_extension": ".py",
   "mimetype": "text/x-python",
   "name": "python",
   "nbconvert_exporter": "python",
   "pygments_lexer": "ipython3",
   "version": "3.10.4"
  }
 },
 "nbformat": 4,
 "nbformat_minor": 5
}
